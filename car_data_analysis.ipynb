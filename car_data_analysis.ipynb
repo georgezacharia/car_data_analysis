{
 "cells": [
  {
   "cell_type": "markdown",
   "id": "e420a346-8527-47c0-8d47-79163cacfd3f",
   "metadata": {},
   "source": [
    "# Car Data Analysis"
   ]
  },
  {
   "cell_type": "markdown",
   "id": "54a18589-273f-40ac-bd81-ffc8875dd8de",
   "metadata": {},
   "source": [
    "## Introduction\n",
    "This analysis aims to explore and gain insights from a dataset containing information about various vehicles, including their specifications, prices, and origins. By applying statistical and visual analysis techniques using Python and Pandas, we aim to understand the relationships between different attributes and how they impact vehicle prices. In this analysis, we explore a dataset containing various features of cars, including their make, model, type, origin, and drivetrain. The dataset comprises columns such as MSRP (Manufacturer's Suggested Retail Price), Invoice price, engine specifications like size and cylinders, and performance metrics such as Horsepower, MPG (Miles Per Gallon) for both city and highway, as well as physical attributes like Weight, Wheelbase, and Length."
   ]
  },
  {
   "cell_type": "markdown",
   "id": "d0d80c4b-971c-4b12-8e20-c4337a7cc26f",
   "metadata": {},
   "source": [
    "# Data Importation and Initial Exploration\n",
    "The dataset was imported using the Pandas library, allowing us to leverage its powerful data manipulation capabilities. We performed an initial exploration of the data by checking the data types of each column, identifying missing values, and gaining insights into the distribution of car types and their respective prices. This foundational analysis sets the stage for deeper insights into car performance and market trends."
   ]
  },
  {
   "cell_type": "markdown",
   "id": "225d5a12-f58c-4c43-9b05-0102735f89d2",
   "metadata": {},
   "source": [
    "## Importing Libraries\n",
    "We start by importing the necessary libraries for data analysis and visualization: Matplotlib, Pandas, Seaborn, and NumPy."
   ]
  },
  {
   "cell_type": "code",
   "execution_count": 30,
   "id": "9a9a0409-172a-412e-8d63-f30ab59b1a29",
   "metadata": {},
   "outputs": [],
   "source": [
    "import pandas as pd"
   ]
  },
  {
   "cell_type": "code",
   "execution_count": 77,
   "id": "3c6cb69f-c70d-49b0-9ac1-c2721dd54ca6",
   "metadata": {},
   "outputs": [],
   "source": [
    "import seaborn as sns"
   ]
  },
  {
   "cell_type": "code",
   "execution_count": 79,
   "id": "b95684fb-c17a-466e-9dc6-df26b9464195",
   "metadata": {},
   "outputs": [],
   "source": [
    "import numpy as np\n"
   ]
  },
  {
   "cell_type": "code",
   "execution_count": 81,
   "id": "725d9816-c63d-4f1b-863f-3a162d75c2bd",
   "metadata": {},
   "outputs": [],
   "source": [
    "import matplotlib.pyplot as plt"
   ]
  },
  {
   "cell_type": "markdown",
   "id": "faa57f62-533b-4860-af0f-d35fa4c91c3e",
   "metadata": {},
   "source": [
    "## Loading the Dataset\n",
    "We load the car dataset from a CSV file using Pandas and display the first few rows to understand its structure."
   ]
  },
  {
   "cell_type": "code",
   "execution_count": 36,
   "id": "e411a64b-b48f-4347-b21e-965dd1fe83a3",
   "metadata": {},
   "outputs": [],
   "source": [
    "df = pd.read_csv(r'C:\\Users\\LENOVO\\Desktop\\Python Data Analysis\\Cars Dataset.csv')"
   ]
  },
  {
   "cell_type": "code",
   "execution_count": 153,
   "id": "c63109ab-64a1-4162-ad85-1a0485d15e2d",
   "metadata": {},
   "outputs": [
    {
     "data": {
      "text/html": [
       "<div>\n",
       "<style scoped>\n",
       "    .dataframe tbody tr th:only-of-type {\n",
       "        vertical-align: middle;\n",
       "    }\n",
       "\n",
       "    .dataframe tbody tr th {\n",
       "        vertical-align: top;\n",
       "    }\n",
       "\n",
       "    .dataframe thead th {\n",
       "        text-align: right;\n",
       "    }\n",
       "</style>\n",
       "<table border=\"1\" class=\"dataframe\">\n",
       "  <thead>\n",
       "    <tr style=\"text-align: right;\">\n",
       "      <th></th>\n",
       "      <th>Make</th>\n",
       "      <th>Model</th>\n",
       "      <th>Type</th>\n",
       "      <th>Origin</th>\n",
       "      <th>DriveTrain</th>\n",
       "      <th>MSRP</th>\n",
       "      <th>Invoice</th>\n",
       "      <th>EngineSize</th>\n",
       "      <th>Cylinders</th>\n",
       "      <th>Horsepower</th>\n",
       "      <th>MPG_City</th>\n",
       "      <th>MPG_Highway</th>\n",
       "      <th>Weight</th>\n",
       "      <th>Wheelbase</th>\n",
       "      <th>Length</th>\n",
       "    </tr>\n",
       "  </thead>\n",
       "  <tbody>\n",
       "    <tr>\n",
       "      <th>0</th>\n",
       "      <td>Acura</td>\n",
       "      <td>MDX</td>\n",
       "      <td>SUV</td>\n",
       "      <td>Asia</td>\n",
       "      <td>All</td>\n",
       "      <td>$36,945</td>\n",
       "      <td>$33,337</td>\n",
       "      <td>3.5</td>\n",
       "      <td>6.0</td>\n",
       "      <td>265.0</td>\n",
       "      <td>17.0</td>\n",
       "      <td>23.0</td>\n",
       "      <td>4451.0</td>\n",
       "      <td>106.0</td>\n",
       "      <td>189.0</td>\n",
       "    </tr>\n",
       "    <tr>\n",
       "      <th>1</th>\n",
       "      <td>Acura</td>\n",
       "      <td>RSX Type S 2dr</td>\n",
       "      <td>Sedan</td>\n",
       "      <td>Asia</td>\n",
       "      <td>Front</td>\n",
       "      <td>$23,820</td>\n",
       "      <td>$21,761</td>\n",
       "      <td>2.0</td>\n",
       "      <td>4.0</td>\n",
       "      <td>200.0</td>\n",
       "      <td>24.0</td>\n",
       "      <td>31.0</td>\n",
       "      <td>2778.0</td>\n",
       "      <td>101.0</td>\n",
       "      <td>172.0</td>\n",
       "    </tr>\n",
       "    <tr>\n",
       "      <th>2</th>\n",
       "      <td>Acura</td>\n",
       "      <td>TSX 4dr</td>\n",
       "      <td>Sedan</td>\n",
       "      <td>Asia</td>\n",
       "      <td>Front</td>\n",
       "      <td>$26,990</td>\n",
       "      <td>$24,647</td>\n",
       "      <td>2.4</td>\n",
       "      <td>4.0</td>\n",
       "      <td>200.0</td>\n",
       "      <td>22.0</td>\n",
       "      <td>29.0</td>\n",
       "      <td>3230.0</td>\n",
       "      <td>105.0</td>\n",
       "      <td>183.0</td>\n",
       "    </tr>\n",
       "    <tr>\n",
       "      <th>3</th>\n",
       "      <td>Acura</td>\n",
       "      <td>TL 4dr</td>\n",
       "      <td>Sedan</td>\n",
       "      <td>Asia</td>\n",
       "      <td>Front</td>\n",
       "      <td>$33,195</td>\n",
       "      <td>$30,299</td>\n",
       "      <td>3.2</td>\n",
       "      <td>6.0</td>\n",
       "      <td>270.0</td>\n",
       "      <td>20.0</td>\n",
       "      <td>28.0</td>\n",
       "      <td>3575.0</td>\n",
       "      <td>108.0</td>\n",
       "      <td>186.0</td>\n",
       "    </tr>\n",
       "    <tr>\n",
       "      <th>4</th>\n",
       "      <td>Acura</td>\n",
       "      <td>3.5 RL 4dr</td>\n",
       "      <td>Sedan</td>\n",
       "      <td>Asia</td>\n",
       "      <td>Front</td>\n",
       "      <td>$43,755</td>\n",
       "      <td>$39,014</td>\n",
       "      <td>3.5</td>\n",
       "      <td>6.0</td>\n",
       "      <td>225.0</td>\n",
       "      <td>18.0</td>\n",
       "      <td>24.0</td>\n",
       "      <td>3880.0</td>\n",
       "      <td>115.0</td>\n",
       "      <td>197.0</td>\n",
       "    </tr>\n",
       "  </tbody>\n",
       "</table>\n",
       "</div>"
      ],
      "text/plain": [
       "    Make           Model   Type Origin DriveTrain      MSRP   Invoice  \\\n",
       "0  Acura             MDX    SUV   Asia        All  $36,945   $33,337    \n",
       "1  Acura  RSX Type S 2dr  Sedan   Asia      Front  $23,820   $21,761    \n",
       "2  Acura         TSX 4dr  Sedan   Asia      Front  $26,990   $24,647    \n",
       "3  Acura          TL 4dr  Sedan   Asia      Front  $33,195   $30,299    \n",
       "4  Acura      3.5 RL 4dr  Sedan   Asia      Front  $43,755   $39,014    \n",
       "\n",
       "   EngineSize  Cylinders  Horsepower  MPG_City  MPG_Highway  Weight  \\\n",
       "0         3.5        6.0       265.0      17.0         23.0  4451.0   \n",
       "1         2.0        4.0       200.0      24.0         31.0  2778.0   \n",
       "2         2.4        4.0       200.0      22.0         29.0  3230.0   \n",
       "3         3.2        6.0       270.0      20.0         28.0  3575.0   \n",
       "4         3.5        6.0       225.0      18.0         24.0  3880.0   \n",
       "\n",
       "   Wheelbase  Length  \n",
       "0      106.0   189.0  \n",
       "1      101.0   172.0  \n",
       "2      105.0   183.0  \n",
       "3      108.0   186.0  \n",
       "4      115.0   197.0  "
      ]
     },
     "execution_count": 153,
     "metadata": {},
     "output_type": "execute_result"
    }
   ],
   "source": [
    "df.head()"
   ]
  },
  {
   "cell_type": "markdown",
   "id": "9a7f4bfa-0d20-40ec-aab2-b3a97b517f11",
   "metadata": {},
   "source": [
    "## Checking Data Types\n",
    "Next, we print the data types of each column."
   ]
  },
  {
   "cell_type": "code",
   "execution_count": 155,
   "id": "5161c08e-5672-48a3-a602-1783f960ec8f",
   "metadata": {},
   "outputs": [
    {
     "name": "stdout",
     "output_type": "stream",
     "text": [
      "Make            object\n",
      "Model           object\n",
      "Type            object\n",
      "Origin          object\n",
      "DriveTrain      object\n",
      "MSRP            object\n",
      "Invoice         object\n",
      "EngineSize     float64\n",
      "Cylinders      float64\n",
      "Horsepower     float64\n",
      "MPG_City       float64\n",
      "MPG_Highway    float64\n",
      "Weight         float64\n",
      "Wheelbase      float64\n",
      "Length         float64\n",
      "dtype: object\n"
     ]
    }
   ],
   "source": [
    "print(df.dtypes)"
   ]
  },
  {
   "cell_type": "markdown",
   "id": "add77880-33af-41e6-a326-2fdf1c685272",
   "metadata": {},
   "source": [
    "## Checking the Missing Values\n",
    "Next, we print any missing values in the dataset."
   ]
  },
  {
   "cell_type": "code",
   "execution_count": 157,
   "id": "7e26cd73-3db8-4350-83ce-98a616cef1f8",
   "metadata": {},
   "outputs": [
    {
     "name": "stdout",
     "output_type": "stream",
     "text": [
      "Make           4\n",
      "Model          4\n",
      "Type           4\n",
      "Origin         4\n",
      "DriveTrain     4\n",
      "MSRP           4\n",
      "Invoice        4\n",
      "EngineSize     4\n",
      "Cylinders      6\n",
      "Horsepower     4\n",
      "MPG_City       4\n",
      "MPG_Highway    4\n",
      "Weight         4\n",
      "Wheelbase      4\n",
      "Length         4\n",
      "dtype: int64\n"
     ]
    }
   ],
   "source": [
    "print(df.isnull().sum())"
   ]
  },
  {
   "cell_type": "markdown",
   "id": "4db7a834-243b-442c-a8e4-6c0dd259e51a",
   "metadata": {},
   "source": [
    "## Converting Currency Columns to Numeric\n",
    "We convert the MSRP and Invoice columns from string format (with dollar signs and commas) to numeric values, coercing any errors into NaN."
   ]
  },
  {
   "cell_type": "code",
   "execution_count": 38,
   "id": "1e0bd45a-70c8-4e9e-9b3b-c4719eed0e5d",
   "metadata": {},
   "outputs": [],
   "source": [
    "df['MSRP'] = pd.to_numeric(df['MSRP'].str.replace(',', '').str.replace('$', ''), errors='coerce')"
   ]
  },
  {
   "cell_type": "code",
   "execution_count": 161,
   "id": "c092a449-3fd7-4575-b9fa-f50b507a80dd",
   "metadata": {},
   "outputs": [],
   "source": [
    "df['Invoice'] = pd.to_numeric(df['Invoice'].str.replace(',', '').str.replace('$', ''), errors='coerce')"
   ]
  },
  {
   "cell_type": "markdown",
   "id": "d0c0970d-9d10-4f02-aa32-6c18894cc33b",
   "metadata": {},
   "source": [
    "## Verifying Data Types After Conversion\n",
    "We print the data types again to confirm the changes made to the MSRP and Invoice columns."
   ]
  },
  {
   "cell_type": "code",
   "execution_count": 40,
   "id": "6f46555f-36ba-4935-ac47-41ce7f93ff50",
   "metadata": {},
   "outputs": [
    {
     "name": "stdout",
     "output_type": "stream",
     "text": [
      "Make            object\n",
      "Model           object\n",
      "Type            object\n",
      "Origin          object\n",
      "DriveTrain      object\n",
      "MSRP           float64\n",
      "Invoice         object\n",
      "EngineSize     float64\n",
      "Cylinders      float64\n",
      "Horsepower     float64\n",
      "MPG_City       float64\n",
      "MPG_Highway    float64\n",
      "Weight         float64\n",
      "Wheelbase      float64\n",
      "Length         float64\n",
      "dtype: object\n"
     ]
    }
   ],
   "source": [
    "print(df.dtypes)"
   ]
  },
  {
   "cell_type": "markdown",
   "id": "81d77a3d-13d6-40d5-96ec-cc59c6492a88",
   "metadata": {},
   "source": [
    "## Filling Missing Values\n",
    "We define a list of columns to fill missing values with their respective mean values to ensure our dataset is complete for analysis."
   ]
  },
  {
   "cell_type": "code",
   "execution_count": 167,
   "id": "1a4674bf-ad48-40e5-9c02-40f2f0a80a71",
   "metadata": {},
   "outputs": [],
   "source": [
    "columns_to_fill = ['EngineSize', 'Cylinders', 'Horsepower', 'MPG_City', 'MPG_Highway', 'Weight', 'Wheelbase', 'Length']"
   ]
  },
  {
   "cell_type": "code",
   "execution_count": 169,
   "id": "196ffd41-9629-43c0-8483-4b6208276e58",
   "metadata": {},
   "outputs": [],
   "source": [
    "for column in columns_to_fill:\n",
    "    df[column] = df[column].fillna(df[column].mean())"
   ]
  },
  {
   "cell_type": "markdown",
   "id": "bfeb8a2d-16e1-4259-939e-a78c9266a085",
   "metadata": {},
   "source": [
    "## Dropping Remaining Missing Values\n",
    "After filling in the missing values, we drop any remaining rows with NaN values to ensure a clean dataset."
   ]
  },
  {
   "cell_type": "code",
   "execution_count": 43,
   "id": "769f7789-70d8-4d80-8cc1-20c161ba5ca8",
   "metadata": {},
   "outputs": [],
   "source": [
    "df.dropna(inplace=True)"
   ]
  },
  {
   "cell_type": "markdown",
   "id": "80a9b940-1e5c-481d-9fe9-db8d91c9c14d",
   "metadata": {},
   "source": [
    "## Counting Unique Values\n",
    "We count the occurrences of each car type."
   ]
  },
  {
   "cell_type": "code",
   "execution_count": 175,
   "id": "51c978f5-e81c-4fdb-a8f1-fc1578327e35",
   "metadata": {},
   "outputs": [
    {
     "name": "stdout",
     "output_type": "stream",
     "text": [
      "Type\n",
      "Sedan     262\n",
      "SUV        60\n",
      "Sports     49\n",
      "Wagon      30\n",
      "Truck      24\n",
      "Hybrid      3\n",
      "Name: count, dtype: int64\n"
     ]
    }
   ],
   "source": [
    "print(df['Type'].value_counts())"
   ]
  },
  {
   "cell_type": "markdown",
   "id": "9932fa06-8343-4906-84f4-4e046addaba1",
   "metadata": {},
   "source": [
    "## Counting Unique Values\n",
    "We count the occurrences of each car type and origin in the dataset to gain insights into its composition."
   ]
  },
  {
   "cell_type": "code",
   "execution_count": 52,
   "id": "fcc25024-1265-4f80-8128-8202807b99af",
   "metadata": {},
   "outputs": [
    {
     "name": "stdout",
     "output_type": "stream",
     "text": [
      "Origin\n",
      "Asia      156\n",
      "USA       147\n",
      "Europe    123\n",
      "Name: count, dtype: int64\n"
     ]
    }
   ],
   "source": [
    "print(df['Origin'].value_counts())"
   ]
  },
  {
   "cell_type": "markdown",
   "id": "343e4b60-85df-4950-ad67-de26fc406477",
   "metadata": {},
   "source": [
    "## Calculating Mean MSRP by Origin\n",
    "We group the data by Origin and calculate the mean MSRP for each group, allowing us to see price differences by origin."
   ]
  },
  {
   "cell_type": "code",
   "execution_count": 179,
   "id": "c6b5e1bc-8a36-4349-b944-3ebf5a9e429d",
   "metadata": {},
   "outputs": [
    {
     "name": "stdout",
     "output_type": "stream",
     "text": [
      "Origin\n",
      "Asia      24741.322785\n",
      "Europe    48349.796748\n",
      "USA       28377.442177\n",
      "Name: MSRP, dtype: float64\n"
     ]
    }
   ],
   "source": [
    "mean_msrp_by_origin = df.groupby('Origin')['MSRP'].mean()\n",
    "print(mean_msrp_by_origin)"
   ]
  },
  {
   "cell_type": "markdown",
   "id": "3f385d36-9a0f-4fbc-98c1-7b2df9649978",
   "metadata": {},
   "source": [
    "## Counting Cars by Type\n",
    "We count the number of different makes for each car type to understand the distribution of car types in the dataset."
   ]
  },
  {
   "cell_type": "code",
   "execution_count": 181,
   "id": "b08a86e1-e3c5-42a0-8b8a-f2ceb9d6b3f8",
   "metadata": {},
   "outputs": [
    {
     "name": "stdout",
     "output_type": "stream",
     "text": [
      "Type\n",
      "Hybrid      3\n",
      "SUV        60\n",
      "Sedan     262\n",
      "Sports     49\n",
      "Truck      24\n",
      "Wagon      30\n",
      "Name: Make, dtype: int64\n"
     ]
    }
   ],
   "source": [
    "count_by_type = df.groupby('Type')['Make'].count()\n",
    "print(count_by_type)"
   ]
  },
  {
   "cell_type": "markdown",
   "id": "7087c83e-684f-47fc-b1a0-4a5f67bce54f",
   "metadata": {},
   "source": [
    "## Aggregating Statistics by Origin\n",
    "We create a summary of statistics for MSRP (mean, min, max) and average Weight grouped by Origin."
   ]
  },
  {
   "cell_type": "code",
   "execution_count": 183,
   "id": "c6db92a7-23c8-4525-817e-a23e23e56714",
   "metadata": {},
   "outputs": [
    {
     "name": "stdout",
     "output_type": "stream",
     "text": [
      "                MSRP                          Weight\n",
      "                mean      min       max         mean\n",
      "Origin                                              \n",
      "Asia    24741.322785  10280.0   89765.0  3319.316456\n",
      "Europe  48349.796748  16999.0  192465.0  3680.723577\n",
      "USA     28377.442177  10995.0   81795.0  3769.952381\n"
     ]
    }
   ],
   "source": [
    "agg_stats = df.groupby('Origin').agg({'MSRP': ['mean', 'min', 'max'], 'Weight': 'mean'})\n",
    "print(agg_stats)"
   ]
  },
  {
   "cell_type": "markdown",
   "id": "1b3280d5-489e-42d2-8097-eb26769e82ff",
   "metadata": {},
   "source": [
    "## Creating a Pivot Table\n",
    "We create a pivot table to visualize the average MSRP for each car type by origin, replacing NaN values with 0 if desired."
   ]
  },
  {
   "cell_type": "code",
   "execution_count": 207,
   "id": "6bbd8a66-0ebc-411c-bab8-34029da59ffb",
   "metadata": {},
   "outputs": [
    {
     "name": "stdout",
     "output_type": "stream",
     "text": [
      "Type     Hybrid      SUV         Sedan        Sports      Truck         Wagon\n",
      "Origin                                                                       \n",
      "Asia    19920.0  29569.0  22763.968085  32510.647059  20383.625  23143.727273\n",
      "Europe      0.0  48346.0  42992.051282  71998.695652      0.000  37851.250000\n",
      "USA         0.0  34589.2  25638.833333  45257.222222  27220.250  22345.714286\n"
     ]
    }
   ],
   "source": [
    "pivot_table = df.pivot_table(values='MSRP', index='Origin', columns='Type', aggfunc='mean')\n",
    "pivot_table.fillna(0, inplace=True)  # Replace NaN with 0 if desired\n",
    "print(pivot_table)"
   ]
  },
  {
   "cell_type": "markdown",
   "id": "c0df76ac-e389-4afb-b392-93d3837ec24c",
   "metadata": {},
   "source": [
    "## Filtering High MSRP Cars\n",
    "We filter the dataset to find cars with an MSRP greater than 30,000, allowing us to focus on higher-end vehicles."
   ]
  },
  {
   "cell_type": "code",
   "execution_count": 187,
   "id": "4f91744f-e6a3-4747-b84a-d91767fad4eb",
   "metadata": {},
   "outputs": [
    {
     "name": "stdout",
     "output_type": "stream",
     "text": [
      "      Make                    Model    Type  Origin DriveTrain     MSRP  \\\n",
      "0    Acura                      MDX     SUV    Asia        All  36945.0   \n",
      "3    Acura                   TL 4dr   Sedan    Asia      Front  33195.0   \n",
      "4    Acura               3.5 RL 4dr   Sedan    Asia      Front  43755.0   \n",
      "5    Acura  3.5 RL w/Navigation 4dr   Sedan    Asia      Front  46100.0   \n",
      "6    Acura   NSX coupe 2dr manual S  Sports    Asia       Rear  89765.0   \n",
      "..     ...                      ...     ...     ...        ...      ...   \n",
      "426  Volvo             S80 2.5T 4dr   Sedan  Europe        All  37885.0   \n",
      "427  Volvo  C70 LPT convertible 2dr   Sedan  Europe      Front  40565.0   \n",
      "428  Volvo  C70 HPT convertible 2dr   Sedan  Europe      Front  42565.0   \n",
      "429  Volvo               S80 T6 4dr   Sedan  Europe      Front  45210.0   \n",
      "431  Volvo                     XC70   Wagon  Europe        All  35145.0   \n",
      "\n",
      "     Invoice  EngineSize  Cylinders  Horsepower  MPG_City  MPG_Highway  \\\n",
      "0    33337.0         3.5        6.0       265.0      17.0         23.0   \n",
      "3    30299.0         3.2        6.0       270.0      20.0         28.0   \n",
      "4    39014.0         3.5        6.0       225.0      18.0         24.0   \n",
      "5    41100.0         3.5        6.0       225.0      18.0         24.0   \n",
      "6    79978.0         3.2        6.0       290.0      17.0         24.0   \n",
      "..       ...         ...        ...         ...       ...          ...   \n",
      "426  35688.0         2.5        5.0       194.0      20.0         27.0   \n",
      "427  38203.0         2.4        5.0       197.0      21.0         28.0   \n",
      "428  40083.0         2.3        5.0       242.0      20.0         26.0   \n",
      "429  42573.0         2.9        6.0       268.0      19.0         26.0   \n",
      "431  33112.0         2.5        5.0       208.0      20.0         27.0   \n",
      "\n",
      "     Weight  Wheelbase  Length  \n",
      "0    4451.0      106.0   189.0  \n",
      "3    3575.0      108.0   186.0  \n",
      "4    3880.0      115.0   197.0  \n",
      "5    3893.0      115.0   197.0  \n",
      "6    3153.0      100.0   174.0  \n",
      "..      ...        ...     ...  \n",
      "426  3691.0      110.0   190.0  \n",
      "427  3450.0      105.0   186.0  \n",
      "428  3450.0      105.0   186.0  \n",
      "429  3653.0      110.0   190.0  \n",
      "431  3823.0      109.0   186.0  \n",
      "\n",
      "[190 rows x 15 columns]\n"
     ]
    }
   ],
   "source": [
    "high_msrp = df[df['MSRP'] > 30000]\n",
    "print(high_msrp)\n"
   ]
  },
  {
   "cell_type": "markdown",
   "id": "4346338b-ce3b-4b1e-9e4b-a89100443138",
   "metadata": {},
   "source": [
    "## Filtering Cars by Origin\n",
    "We filter the dataset to create a new DataFrame, **Asia_cars**, containing only the cars that originate from Asia. This allows us to analyze the characteristics and statistics specific to Asian-made cars."
   ]
  },
  {
   "cell_type": "code",
   "execution_count": 189,
   "id": "2fb89a02-2e77-4f60-8ba0-e460953411ca",
   "metadata": {},
   "outputs": [
    {
     "name": "stdout",
     "output_type": "stream",
     "text": [
      "       Make                       Model    Type Origin DriveTrain     MSRP  \\\n",
      "0     Acura                         MDX     SUV   Asia        All  36945.0   \n",
      "1     Acura              RSX Type S 2dr   Sedan   Asia      Front  23820.0   \n",
      "2     Acura                     TSX 4dr   Sedan   Asia      Front  26990.0   \n",
      "3     Acura                      TL 4dr   Sedan   Asia      Front  33195.0   \n",
      "4     Acura                  3.5 RL 4dr   Sedan   Asia      Front  43755.0   \n",
      "..      ...                         ...     ...    ...        ...      ...   \n",
      "400  Toyota  MR2 Spyder convertible 2dr  Sports   Asia       Rear  25130.0   \n",
      "401  Toyota                      Tacoma   Truck   Asia       Rear  12800.0   \n",
      "402  Toyota       Tundra Regular Cab V6   Truck   Asia       Rear  16495.0   \n",
      "403  Toyota    Tundra Access Cab V6 SR5   Truck   Asia        All  25935.0   \n",
      "404  Toyota                   Matrix XR   Wagon   Asia      Front  16695.0   \n",
      "\n",
      "     Invoice  EngineSize  Cylinders  Horsepower  MPG_City  MPG_Highway  \\\n",
      "0    33337.0         3.5        6.0       265.0      17.0         23.0   \n",
      "1    21761.0         2.0        4.0       200.0      24.0         31.0   \n",
      "2    24647.0         2.4        4.0       200.0      22.0         29.0   \n",
      "3    30299.0         3.2        6.0       270.0      20.0         28.0   \n",
      "4    39014.0         3.5        6.0       225.0      18.0         24.0   \n",
      "..       ...         ...        ...         ...       ...          ...   \n",
      "400  22787.0         1.8        4.0       138.0      26.0         32.0   \n",
      "401  11879.0         2.4        4.0       142.0      22.0         27.0   \n",
      "402  14978.0         3.4        6.0       190.0      16.0         18.0   \n",
      "403  23520.0         3.4        6.0       190.0      14.0         17.0   \n",
      "404  15156.0         1.8        4.0       130.0      29.0         36.0   \n",
      "\n",
      "     Weight  Wheelbase  Length  \n",
      "0    4451.0      106.0   189.0  \n",
      "1    2778.0      101.0   172.0  \n",
      "2    3230.0      105.0   183.0  \n",
      "3    3575.0      108.0   186.0  \n",
      "4    3880.0      115.0   197.0  \n",
      "..      ...        ...     ...  \n",
      "400  2195.0       97.0   153.0  \n",
      "401  2750.0      103.0   191.0  \n",
      "402  3925.0      128.0   218.0  \n",
      "403  4435.0      128.0   218.0  \n",
      "404  2679.0      102.0   171.0  \n",
      "\n",
      "[158 rows x 15 columns]\n"
     ]
    }
   ],
   "source": [
    "Asia_cars = df[df['Origin'] == 'Asia']\n",
    "print(Asia_cars)"
   ]
  },
  {
   "cell_type": "markdown",
   "id": "6f30edef-2d6c-4f0e-96d5-190329b82255",
   "metadata": {},
   "source": [
    "## Sorting Data by MSRP\n",
    "We sort the DataFrame in descending order based on the MSRP to identify the most expensive cars in the dataset."
   ]
  },
  {
   "cell_type": "code",
   "execution_count": 191,
   "id": "76c4c0b3-be0e-47cd-9c40-e050fca327ba",
   "metadata": {},
   "outputs": [
    {
     "name": "stdout",
     "output_type": "stream",
     "text": [
      "              Make                  Model    Type  Origin DriveTrain  \\\n",
      "338        Porsche            911 GT2 2dr  Sports  Europe       Rear   \n",
      "266  Mercedes-Benz              CL600 2dr   Sedan  Europe       Rear   \n",
      "275  Mercedes-Benz  SL600 convertible 2dr  Sports  Europe       Rear   \n",
      "274  Mercedes-Benz           SL55 AMG 2dr  Sports  Europe       Rear   \n",
      "265  Mercedes-Benz              CL500 2dr   Sedan  Europe       Rear   \n",
      "\n",
      "         MSRP   Invoice  EngineSize  Cylinders  Horsepower  MPG_City  \\\n",
      "338  192465.0  173560.0         3.6        6.0       477.0      17.0   \n",
      "266  128420.0  119600.0         5.5       12.0       493.0      13.0   \n",
      "275  126670.0  117854.0         5.5       12.0       493.0      13.0   \n",
      "274  121770.0  113388.0         5.5        8.0       493.0      14.0   \n",
      "265   94820.0   88324.0         5.0        8.0       302.0      16.0   \n",
      "\n",
      "     MPG_Highway  Weight  Wheelbase  Length  \n",
      "338         24.0  3131.0       93.0   175.0  \n",
      "266         19.0  4473.0      114.0   196.0  \n",
      "275         19.0  4429.0      101.0   179.0  \n",
      "274         21.0  4235.0      101.0   179.0  \n",
      "265         24.0  4085.0      114.0   196.0  \n"
     ]
    }
   ],
   "source": [
    "sorted_df = df.sort_values(by='MSRP', ascending=False)\n",
    "print(sorted_df.head())"
   ]
  },
  {
   "cell_type": "markdown",
   "id": "6227506f-ad1a-47eb-83d4-5c250f84fdd8",
   "metadata": {},
   "source": [
    "## Calculating Average MPG\n",
    "We calculate the average MPG for each car by averaging the MPG_City and MPG_Highway columns and creating a new column MPG_Average."
   ]
  },
  {
   "cell_type": "code",
   "execution_count": 65,
   "id": "851223b4-8af5-4f31-a4b2-da710e2fc7fd",
   "metadata": {},
   "outputs": [],
   "source": [
    "df['MPG_Average'] = (df['MPG_City'] + df['MPG_Highway']) / 2"
   ]
  },
  {
   "cell_type": "code",
   "execution_count": 67,
   "id": "f3e7d544-7e1c-41a7-8642-7bca707030c7",
   "metadata": {},
   "outputs": [
    {
     "data": {
      "text/html": [
       "<div>\n",
       "<style scoped>\n",
       "    .dataframe tbody tr th:only-of-type {\n",
       "        vertical-align: middle;\n",
       "    }\n",
       "\n",
       "    .dataframe tbody tr th {\n",
       "        vertical-align: top;\n",
       "    }\n",
       "\n",
       "    .dataframe thead th {\n",
       "        text-align: right;\n",
       "    }\n",
       "</style>\n",
       "<table border=\"1\" class=\"dataframe\">\n",
       "  <thead>\n",
       "    <tr style=\"text-align: right;\">\n",
       "      <th></th>\n",
       "      <th>Make</th>\n",
       "      <th>Model</th>\n",
       "      <th>Type</th>\n",
       "      <th>Origin</th>\n",
       "      <th>DriveTrain</th>\n",
       "      <th>MSRP</th>\n",
       "      <th>Invoice</th>\n",
       "      <th>EngineSize</th>\n",
       "      <th>Cylinders</th>\n",
       "      <th>Horsepower</th>\n",
       "      <th>MPG_City</th>\n",
       "      <th>MPG_Highway</th>\n",
       "      <th>Weight</th>\n",
       "      <th>Wheelbase</th>\n",
       "      <th>Length</th>\n",
       "      <th>MPG_Average</th>\n",
       "    </tr>\n",
       "  </thead>\n",
       "  <tbody>\n",
       "    <tr>\n",
       "      <th>0</th>\n",
       "      <td>Acura</td>\n",
       "      <td>MDX</td>\n",
       "      <td>SUV</td>\n",
       "      <td>Asia</td>\n",
       "      <td>All</td>\n",
       "      <td>36945.0</td>\n",
       "      <td>$33,337</td>\n",
       "      <td>3.5</td>\n",
       "      <td>6.0</td>\n",
       "      <td>265.0</td>\n",
       "      <td>17.0</td>\n",
       "      <td>23.0</td>\n",
       "      <td>4451.0</td>\n",
       "      <td>106.0</td>\n",
       "      <td>189.0</td>\n",
       "      <td>20.0</td>\n",
       "    </tr>\n",
       "    <tr>\n",
       "      <th>1</th>\n",
       "      <td>Acura</td>\n",
       "      <td>RSX Type S 2dr</td>\n",
       "      <td>Sedan</td>\n",
       "      <td>Asia</td>\n",
       "      <td>Front</td>\n",
       "      <td>23820.0</td>\n",
       "      <td>$21,761</td>\n",
       "      <td>2.0</td>\n",
       "      <td>4.0</td>\n",
       "      <td>200.0</td>\n",
       "      <td>24.0</td>\n",
       "      <td>31.0</td>\n",
       "      <td>2778.0</td>\n",
       "      <td>101.0</td>\n",
       "      <td>172.0</td>\n",
       "      <td>27.5</td>\n",
       "    </tr>\n",
       "    <tr>\n",
       "      <th>2</th>\n",
       "      <td>Acura</td>\n",
       "      <td>TSX 4dr</td>\n",
       "      <td>Sedan</td>\n",
       "      <td>Asia</td>\n",
       "      <td>Front</td>\n",
       "      <td>26990.0</td>\n",
       "      <td>$24,647</td>\n",
       "      <td>2.4</td>\n",
       "      <td>4.0</td>\n",
       "      <td>200.0</td>\n",
       "      <td>22.0</td>\n",
       "      <td>29.0</td>\n",
       "      <td>3230.0</td>\n",
       "      <td>105.0</td>\n",
       "      <td>183.0</td>\n",
       "      <td>25.5</td>\n",
       "    </tr>\n",
       "    <tr>\n",
       "      <th>3</th>\n",
       "      <td>Acura</td>\n",
       "      <td>TL 4dr</td>\n",
       "      <td>Sedan</td>\n",
       "      <td>Asia</td>\n",
       "      <td>Front</td>\n",
       "      <td>33195.0</td>\n",
       "      <td>$30,299</td>\n",
       "      <td>3.2</td>\n",
       "      <td>6.0</td>\n",
       "      <td>270.0</td>\n",
       "      <td>20.0</td>\n",
       "      <td>28.0</td>\n",
       "      <td>3575.0</td>\n",
       "      <td>108.0</td>\n",
       "      <td>186.0</td>\n",
       "      <td>24.0</td>\n",
       "    </tr>\n",
       "    <tr>\n",
       "      <th>4</th>\n",
       "      <td>Acura</td>\n",
       "      <td>3.5 RL 4dr</td>\n",
       "      <td>Sedan</td>\n",
       "      <td>Asia</td>\n",
       "      <td>Front</td>\n",
       "      <td>43755.0</td>\n",
       "      <td>$39,014</td>\n",
       "      <td>3.5</td>\n",
       "      <td>6.0</td>\n",
       "      <td>225.0</td>\n",
       "      <td>18.0</td>\n",
       "      <td>24.0</td>\n",
       "      <td>3880.0</td>\n",
       "      <td>115.0</td>\n",
       "      <td>197.0</td>\n",
       "      <td>21.0</td>\n",
       "    </tr>\n",
       "  </tbody>\n",
       "</table>\n",
       "</div>"
      ],
      "text/plain": [
       "    Make           Model   Type Origin DriveTrain     MSRP   Invoice  \\\n",
       "0  Acura             MDX    SUV   Asia        All  36945.0  $33,337    \n",
       "1  Acura  RSX Type S 2dr  Sedan   Asia      Front  23820.0  $21,761    \n",
       "2  Acura         TSX 4dr  Sedan   Asia      Front  26990.0  $24,647    \n",
       "3  Acura          TL 4dr  Sedan   Asia      Front  33195.0  $30,299    \n",
       "4  Acura      3.5 RL 4dr  Sedan   Asia      Front  43755.0  $39,014    \n",
       "\n",
       "   EngineSize  Cylinders  Horsepower  MPG_City  MPG_Highway  Weight  \\\n",
       "0         3.5        6.0       265.0      17.0         23.0  4451.0   \n",
       "1         2.0        4.0       200.0      24.0         31.0  2778.0   \n",
       "2         2.4        4.0       200.0      22.0         29.0  3230.0   \n",
       "3         3.2        6.0       270.0      20.0         28.0  3575.0   \n",
       "4         3.5        6.0       225.0      18.0         24.0  3880.0   \n",
       "\n",
       "   Wheelbase  Length  MPG_Average  \n",
       "0      106.0   189.0         20.0  \n",
       "1      101.0   172.0         27.5  \n",
       "2      105.0   183.0         25.5  \n",
       "3      108.0   186.0         24.0  \n",
       "4      115.0   197.0         21.0  "
      ]
     },
     "execution_count": 67,
     "metadata": {},
     "output_type": "execute_result"
    }
   ],
   "source": [
    "df.head()"
   ]
  },
  {
   "cell_type": "markdown",
   "id": "354c5fe3-4b24-4ddb-9b0d-03761672fdfa",
   "metadata": {},
   "source": [
    "## Calculating MSRP to Invoice Ratio\n",
    "We create a new column MSRP_Invoice_Ratio that represents the ratio of MSRP to Invoice, providing insight into pricing strategy."
   ]
  },
  {
   "cell_type": "code",
   "execution_count": 195,
   "id": "4e556b67-5836-4aaa-96fb-d11c3c893ffa",
   "metadata": {},
   "outputs": [],
   "source": [
    "df['MSRP_Invoice_Ratio'] = df['MSRP'] / df['Invoice']"
   ]
  },
  {
   "cell_type": "code",
   "execution_count": 197,
   "id": "97e4b69b-1119-43de-a3b5-c69da8f5fd44",
   "metadata": {},
   "outputs": [
    {
     "data": {
      "text/html": [
       "<div>\n",
       "<style scoped>\n",
       "    .dataframe tbody tr th:only-of-type {\n",
       "        vertical-align: middle;\n",
       "    }\n",
       "\n",
       "    .dataframe tbody tr th {\n",
       "        vertical-align: top;\n",
       "    }\n",
       "\n",
       "    .dataframe thead th {\n",
       "        text-align: right;\n",
       "    }\n",
       "</style>\n",
       "<table border=\"1\" class=\"dataframe\">\n",
       "  <thead>\n",
       "    <tr style=\"text-align: right;\">\n",
       "      <th></th>\n",
       "      <th>Make</th>\n",
       "      <th>Model</th>\n",
       "      <th>Type</th>\n",
       "      <th>Origin</th>\n",
       "      <th>DriveTrain</th>\n",
       "      <th>MSRP</th>\n",
       "      <th>Invoice</th>\n",
       "      <th>EngineSize</th>\n",
       "      <th>Cylinders</th>\n",
       "      <th>Horsepower</th>\n",
       "      <th>MPG_City</th>\n",
       "      <th>MPG_Highway</th>\n",
       "      <th>Weight</th>\n",
       "      <th>Wheelbase</th>\n",
       "      <th>Length</th>\n",
       "      <th>MPG_Average</th>\n",
       "      <th>MSRP_Invoice_Ratio</th>\n",
       "    </tr>\n",
       "  </thead>\n",
       "  <tbody>\n",
       "    <tr>\n",
       "      <th>0</th>\n",
       "      <td>Acura</td>\n",
       "      <td>MDX</td>\n",
       "      <td>SUV</td>\n",
       "      <td>Asia</td>\n",
       "      <td>All</td>\n",
       "      <td>36945.0</td>\n",
       "      <td>33337.0</td>\n",
       "      <td>3.5</td>\n",
       "      <td>6.0</td>\n",
       "      <td>265.0</td>\n",
       "      <td>17.0</td>\n",
       "      <td>23.0</td>\n",
       "      <td>4451.0</td>\n",
       "      <td>106.0</td>\n",
       "      <td>189.0</td>\n",
       "      <td>20.0</td>\n",
       "      <td>1.108228</td>\n",
       "    </tr>\n",
       "    <tr>\n",
       "      <th>1</th>\n",
       "      <td>Acura</td>\n",
       "      <td>RSX Type S 2dr</td>\n",
       "      <td>Sedan</td>\n",
       "      <td>Asia</td>\n",
       "      <td>Front</td>\n",
       "      <td>23820.0</td>\n",
       "      <td>21761.0</td>\n",
       "      <td>2.0</td>\n",
       "      <td>4.0</td>\n",
       "      <td>200.0</td>\n",
       "      <td>24.0</td>\n",
       "      <td>31.0</td>\n",
       "      <td>2778.0</td>\n",
       "      <td>101.0</td>\n",
       "      <td>172.0</td>\n",
       "      <td>27.5</td>\n",
       "      <td>1.094619</td>\n",
       "    </tr>\n",
       "    <tr>\n",
       "      <th>2</th>\n",
       "      <td>Acura</td>\n",
       "      <td>TSX 4dr</td>\n",
       "      <td>Sedan</td>\n",
       "      <td>Asia</td>\n",
       "      <td>Front</td>\n",
       "      <td>26990.0</td>\n",
       "      <td>24647.0</td>\n",
       "      <td>2.4</td>\n",
       "      <td>4.0</td>\n",
       "      <td>200.0</td>\n",
       "      <td>22.0</td>\n",
       "      <td>29.0</td>\n",
       "      <td>3230.0</td>\n",
       "      <td>105.0</td>\n",
       "      <td>183.0</td>\n",
       "      <td>25.5</td>\n",
       "      <td>1.095062</td>\n",
       "    </tr>\n",
       "    <tr>\n",
       "      <th>3</th>\n",
       "      <td>Acura</td>\n",
       "      <td>TL 4dr</td>\n",
       "      <td>Sedan</td>\n",
       "      <td>Asia</td>\n",
       "      <td>Front</td>\n",
       "      <td>33195.0</td>\n",
       "      <td>30299.0</td>\n",
       "      <td>3.2</td>\n",
       "      <td>6.0</td>\n",
       "      <td>270.0</td>\n",
       "      <td>20.0</td>\n",
       "      <td>28.0</td>\n",
       "      <td>3575.0</td>\n",
       "      <td>108.0</td>\n",
       "      <td>186.0</td>\n",
       "      <td>24.0</td>\n",
       "      <td>1.095581</td>\n",
       "    </tr>\n",
       "    <tr>\n",
       "      <th>4</th>\n",
       "      <td>Acura</td>\n",
       "      <td>3.5 RL 4dr</td>\n",
       "      <td>Sedan</td>\n",
       "      <td>Asia</td>\n",
       "      <td>Front</td>\n",
       "      <td>43755.0</td>\n",
       "      <td>39014.0</td>\n",
       "      <td>3.5</td>\n",
       "      <td>6.0</td>\n",
       "      <td>225.0</td>\n",
       "      <td>18.0</td>\n",
       "      <td>24.0</td>\n",
       "      <td>3880.0</td>\n",
       "      <td>115.0</td>\n",
       "      <td>197.0</td>\n",
       "      <td>21.0</td>\n",
       "      <td>1.121520</td>\n",
       "    </tr>\n",
       "  </tbody>\n",
       "</table>\n",
       "</div>"
      ],
      "text/plain": [
       "    Make           Model   Type Origin DriveTrain     MSRP  Invoice  \\\n",
       "0  Acura             MDX    SUV   Asia        All  36945.0  33337.0   \n",
       "1  Acura  RSX Type S 2dr  Sedan   Asia      Front  23820.0  21761.0   \n",
       "2  Acura         TSX 4dr  Sedan   Asia      Front  26990.0  24647.0   \n",
       "3  Acura          TL 4dr  Sedan   Asia      Front  33195.0  30299.0   \n",
       "4  Acura      3.5 RL 4dr  Sedan   Asia      Front  43755.0  39014.0   \n",
       "\n",
       "   EngineSize  Cylinders  Horsepower  MPG_City  MPG_Highway  Weight  \\\n",
       "0         3.5        6.0       265.0      17.0         23.0  4451.0   \n",
       "1         2.0        4.0       200.0      24.0         31.0  2778.0   \n",
       "2         2.4        4.0       200.0      22.0         29.0  3230.0   \n",
       "3         3.2        6.0       270.0      20.0         28.0  3575.0   \n",
       "4         3.5        6.0       225.0      18.0         24.0  3880.0   \n",
       "\n",
       "   Wheelbase  Length  MPG_Average  MSRP_Invoice_Ratio  \n",
       "0      106.0   189.0         20.0            1.108228  \n",
       "1      101.0   172.0         27.5            1.094619  \n",
       "2      105.0   183.0         25.5            1.095062  \n",
       "3      108.0   186.0         24.0            1.095581  \n",
       "4      115.0   197.0         21.0            1.121520  "
      ]
     },
     "execution_count": 197,
     "metadata": {},
     "output_type": "execute_result"
    }
   ],
   "source": [
    "df.head()"
   ]
  },
  {
   "cell_type": "markdown",
   "id": "46e1e4ed-7432-4656-92bb-84b57281ceb5",
   "metadata": {},
   "source": [
    "## Bar Chart:\n",
    "\n",
    "Purpose: To compare the average MSRP for different Types of cars."
   ]
  },
  {
   "cell_type": "code",
   "execution_count": 85,
   "id": "7a1dda03-0abb-4f7c-b878-3dcb9467bd12",
   "metadata": {},
   "outputs": [
    {
     "data": {
      "image/png": "[encoded data removed]",
      "text/plain": [
       "<Figure size 1000x500 with 1 Axes>"
      ]
     },
     "metadata": {},
     "output_type": "display_data"
    }
   ],
   "source": [
    "plt.figure(figsize=(10, 5))\n",
    "mean_msrp_by_type = df.groupby('Type')['MSRP'].mean().sort_values()\n",
    "mean_msrp_by_type.plot(kind='bar', color='skyblue')\n",
    "plt.title('Average MSRP by Car Type')\n",
    "plt.ylabel('Average MSRP')\n",
    "plt.xticks(rotation=45)\n",
    "plt.show()\n"
   ]
  },
  {
   "cell_type": "markdown",
   "id": "a16b41f1-807a-48ca-8712-a17471e20d37",
   "metadata": {},
   "source": [
    "## Scatter Plot:\n",
    "\n",
    "Purpose: To analyze the relationship between Horsepower and MSRP."
   ]
  },
  {
   "cell_type": "code",
   "execution_count": 88,
   "id": "1370e7df-4433-48ce-b1ec-32f77de9b574",
   "metadata": {},
   "outputs": [
    {
     "data": {
      "image/png": "[encoded data removed]",
      "text/plain": [
       "<Figure size 1200x600 with 1 Axes>"
      ]
     },
     "metadata": {},
     "output_type": "display_data"
    }
   ],
   "source": [
    "plt.figure(figsize=(12, 6))\n",
    "sns.scatterplot(x='Horsepower', y='MSRP', data=df, hue='Origin')\n",
    "plt.title('Horsepower vs. MSRP')\n",
    "plt.xlabel('Horsepower')\n",
    "plt.ylabel('MSRP')\n",
    "plt.xscale('log')  # Log scale for better visualization\n",
    "plt.show()\n"
   ]
  },
  {
   "cell_type": "markdown",
   "id": "532da978-27ef-45c4-9118-2b498968386a",
   "metadata": {},
   "source": [
    "## Count Plot:\n",
    "\n",
    "Purpose: To show the count of different Types of cars."
   ]
  },
  {
   "cell_type": "code",
   "execution_count": 94,
   "id": "b9a8be1e-21b8-4a1b-860d-c0cba344ea24",
   "metadata": {},
   "outputs": [
    {
     "data": {
      "image/png": "[encoded data removed]",
      "text/plain": [
       "<Figure size 1000x500 with 1 Axes>"
      ]
     },
     "metadata": {},
     "output_type": "display_data"
    }
   ],
   "source": [
    "plt.figure(figsize=(10, 5))\n",
    "sns.countplot(x='Type', data=df)\n",
    "plt.title('Count of Cars by Type')\n",
    "plt.ylabel('Count')\n",
    "plt.xticks(rotation=45)\n",
    "plt.show()\n"
   ]
  },
  {
   "cell_type": "code",
   "execution_count": null,
   "id": "fa838ba8-009e-4141-aca1-6b0e28e1800d",
   "metadata": {},
   "outputs": [],
   "source": []
  }
 ],
 "metadata": {
  "kernelspec": {
   "display_name": "Python 3 (ipykernel)",
   "language": "python",
   "name": "python3"
  },
  "language_info": {
   "codemirror_mode": {
    "name": "ipython",
    "version": 3
   },
   "file_extension": ".py",
   "mimetype": "text/x-python",
   "name": "python",
   "nbconvert_exporter": "python",
   "pygments_lexer": "ipython3",
   "version": "3.12.4"
  }
 },
 "nbformat": 4,
 "nbformat_minor": 5
}
